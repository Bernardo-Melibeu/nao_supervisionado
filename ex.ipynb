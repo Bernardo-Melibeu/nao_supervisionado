{
 "cells": [
  {
   "cell_type": "code",
   "execution_count": null,
   "metadata": {},
   "outputs": [],
   "source": [
    "from sklearn.cluster import KMeans\n",
    "import matplotlib.pyplot as plt\n",
    "import scipy.cluster.hierarchy as sch\n",
    "from sklearn.cluster import AgglomerativeClustering\n",
    "from sklearn_extra.cluster import KMedoids\n",
    "import json\n",
    "import seaborn as sns\n",
    "import pandas as pd\n",
    "import numpy as np\n",
    "from preparo import pca_scaled,df,scaled_data,LISTA, n_comp\n",
    "N_CLUSTER=3"
   ]
  },
  {
   "attachments": {},
   "cell_type": "markdown",
   "metadata": {},
   "source": [
    "## Funcs"
   ]
  },
  {
   "cell_type": "code",
   "execution_count": null,
   "metadata": {},
   "outputs": [],
   "source": [
    "#FAZ DIC DE CLUSTER:[PAISES]\n",
    "def faz_dic_cluster(tipo,df=df):\n",
    "    dic_cluster={}\n",
    "    for i in df[tipo].value_counts().index:\n",
    "        dic_cluster[i]=list(df[\"country\"].loc[df[tipo]==i].values)\n",
    "    return dic_cluster"
   ]
  },
  {
   "cell_type": "code",
   "execution_count": null,
   "metadata": {},
   "outputs": [],
   "source": [
    "def faz_boxplots(df,cluster,modelo,LISTA=LISTA):\n",
    "    for coluna in LISTA:\n",
    "        _,_ = plt.subplots(1,1, figsize=(10, 6))\n",
    "        plt.boxplot(df[coluna].loc[df[modelo]==cluster])\n",
    "        plt.title(f\"cluster {cluster}, {coluna}\")\n",
    "        plt.ylabel(f\"{coluna}\")"
   ]
  },
  {
   "attachments": {},
   "cell_type": "markdown",
   "metadata": {},
   "source": [
    "## Clusterização K-means"
   ]
  },
  {
   "cell_type": "code",
   "execution_count": null,
   "metadata": {},
   "outputs": [],
   "source": [
    "model_means=KMeans(n_clusters=N_CLUSTER,n_init=100,max_iter=1_000,random_state=42)\n",
    "model_means.fit(pca_scaled)\n",
    "df[\"cluster_meanpca\"]=model_means.predict(pca_scaled)\n",
    "df[\"cluster_meanpca\"].value_counts()"
   ]
  },
  {
   "attachments": {},
   "cell_type": "markdown",
   "metadata": {},
   "source": [
    "### Dimensões"
   ]
  },
  {
   "cell_type": "code",
   "execution_count": null,
   "metadata": {},
   "outputs": [],
   "source": [
    "#Cluster 0\n",
    "faz_boxplots(df,0,\"cluster_meanpca\")"
   ]
  },
  {
   "cell_type": "code",
   "execution_count": null,
   "metadata": {},
   "outputs": [],
   "source": [
    "#Cluster 1\n",
    "faz_boxplots(df,1,\"cluster_meanpca\")"
   ]
  },
  {
   "cell_type": "code",
   "execution_count": null,
   "metadata": {},
   "outputs": [],
   "source": [
    "#Cluster 2\n",
    "faz_boxplots(df,2,\"cluster_meanpca\")"
   ]
  },
  {
   "attachments": {},
   "cell_type": "markdown",
   "metadata": {},
   "source": [
    "### Centro em país"
   ]
  },
  {
   "cell_type": "code",
   "execution_count": null,
   "metadata": {},
   "outputs": [],
   "source": [
    "center = model_means.cluster_centers_"
   ]
  },
  {
   "cell_type": "code",
   "execution_count": null,
   "metadata": {},
   "outputs": [],
   "source": [
    "df_pca = pd.DataFrame(pca_scaled, columns=[f'PC{i+1}' for i in range(n_comp)])\n",
    "df_pca['country']=df['country']\n",
    "df_pca['KM3']=df['cluster_meanpca']"
   ]
  },
  {
   "cell_type": "code",
   "execution_count": null,
   "metadata": {},
   "outputs": [],
   "source": [
    "summing=np.zeros((df_pca.shape[0],))\n",
    "for col in range(n_comp):\n",
    "    summing+=(df_pca.iloc[:,col].values - center[df_pca['KM3'],col])**2\n",
    "df_pca['dist']=summing "
   ]
  },
  {
   "cell_type": "code",
   "execution_count": null,
   "metadata": {},
   "outputs": [],
   "source": [
    "countries=dict(zip(['country', 'cluster', 'dist'],[[],[],[]]))\n",
    "for cluster in range(N_CLUSTER):\n",
    "    filtered=df_pca[df_pca['KM3']==cluster]\n",
    "    minimum=filtered['dist'].min()\n",
    "    # print(filtered[filtered['dist']==minimum]['country'].values)\n",
    "    country=filtered[filtered['dist']==minimum]['country'].values[0]\n",
    "    countries['country'].append(country)\n",
    "    countries['cluster'].append(cluster)\n",
    "    countries['dist'].append(minimum)\n",
    "df_countries=pd.DataFrame(countries, columns=countries.keys())"
   ]
  },
  {
   "cell_type": "code",
   "execution_count": null,
   "metadata": {},
   "outputs": [],
   "source": [
    "df_countries"
   ]
  },
  {
   "attachments": {},
   "cell_type": "markdown",
   "metadata": {},
   "source": [
    "## Clusterização Hierarquica"
   ]
  },
  {
   "cell_type": "code",
   "execution_count": null,
   "metadata": {},
   "outputs": [],
   "source": [
    "model_hi=AgglomerativeClustering(distance_threshold=None,n_clusters=3,linkage=\"ward\")\n",
    "df[\"cluster_hierarquicopca\"]=model_hi.fit_predict(pca_scaled)\n",
    "df[\"cluster_hierarquicopca\"].value_counts()"
   ]
  },
  {
   "attachments": {},
   "cell_type": "markdown",
   "metadata": {},
   "source": [
    "### Dendograma"
   ]
  },
  {
   "cell_type": "code",
   "execution_count": null,
   "metadata": {},
   "outputs": [],
   "source": [
    "# method=[\"ward\",\"average\",\"centroid\",\"complete\",\"weighted\",\"median\",\"single\"]\n",
    "distance_threshold=17\n",
    "paises=list(df[\"country\"])\n",
    "_, ax=plt.subplots(1, 1, figsize=(16, 8))\n",
    "plt.style.use('tableau-colorblind10')\n",
    "linkage=sch.linkage(scaled_data, method=\"ward\")\n",
    "dendrogram=sch.dendrogram(linkage, labels=paises, leaf_rotation=90)\n",
    "ax.set_xlabel('Paises')\n",
    "ax.set_ylabel('Distances')\n",
    "ax.set_title(\"ward\")\n",
    "ax.axhline(distance_threshold, color='black', ls=\":\")"
   ]
  },
  {
   "attachments": {},
   "cell_type": "markdown",
   "metadata": {},
   "source": [
    "### Dimensões"
   ]
  },
  {
   "cell_type": "code",
   "execution_count": null,
   "metadata": {},
   "outputs": [],
   "source": [
    "#Cluster 0\n",
    "faz_boxplots(df,0,\"cluster_hierarquicopca\")"
   ]
  },
  {
   "cell_type": "code",
   "execution_count": null,
   "metadata": {},
   "outputs": [],
   "source": [
    "#Cluster 1\n",
    "faz_boxplots(df,1,\"cluster_hierarquicopca\")"
   ]
  },
  {
   "cell_type": "code",
   "execution_count": null,
   "metadata": {},
   "outputs": [],
   "source": [
    "#Cluster 2\n",
    "faz_boxplots(df,2,\"cluster_hierarquicopca\")"
   ]
  },
  {
   "attachments": {},
   "cell_type": "markdown",
   "metadata": {},
   "source": [
    "## Clusterização K-medoid"
   ]
  },
  {
   "cell_type": "code",
   "execution_count": null,
   "metadata": {},
   "outputs": [],
   "source": [
    "model_medoid=KMedoids(n_clusters=N_CLUSTER,random_state=42)\n",
    "model_medoid.fit(pca_scaled)\n",
    "df[\"cluster_medoidpca\"]=model_medoid.predict(pca_scaled)\n",
    "df[\"cluster_medoidpca\"].value_counts()"
   ]
  },
  {
   "attachments": {},
   "cell_type": "markdown",
   "metadata": {},
   "source": [
    "## Comparação de resultados de clusterização"
   ]
  },
  {
   "cell_type": "code",
   "execution_count": null,
   "metadata": {},
   "outputs": [],
   "source": [
    "dic={}\n",
    "dic[\"K-means\"]=faz_dic_cluster(\"cluster_meanpca\")\n",
    "dic[\"dic_hierearquico\"]=faz_dic_cluster(\"cluster_hierarquicopca\")"
   ]
  },
  {
   "cell_type": "code",
   "execution_count": null,
   "metadata": {},
   "outputs": [],
   "source": [
    "with open(\"dic_clusterizacao.json\",\"w\") as f:\n",
    "    json.dump(dic,f,indent=4)"
   ]
  },
  {
   "cell_type": "code",
   "execution_count": null,
   "metadata": {},
   "outputs": [],
   "source": [
    "lista=LISTA.copy()\n",
    "lista.append(\"cluster_meanpca\")\n",
    "titulo=sns.pairplot(df[lista],hue=\"cluster_meanpca\")\n",
    "titulo.fig.suptitle(\"Clusters K-means\")"
   ]
  },
  {
   "cell_type": "code",
   "execution_count": null,
   "metadata": {},
   "outputs": [],
   "source": [
    "lista=LISTA.copy()\n",
    "lista.append(\"cluster_hierarquicopca\")\n",
    "titulo=sns.pairplot(df[lista],hue=\"cluster_hierarquicopca\")\n",
    "titulo.fig.suptitle(\"Clusters Hierarquico\")"
   ]
  },
  {
   "cell_type": "code",
   "execution_count": null,
   "metadata": {},
   "outputs": [],
   "source": [
    "lista=LISTA.copy()\n",
    "lista.append(\"cluster_medoidpca\")\n",
    "titulo=sns.pairplot(df[lista],hue=\"cluster_medoidpca\")\n",
    "titulo.fig.suptitle(\"Clusters K-medoids\")"
   ]
  }
 ],
 "metadata": {
  "kernelspec": {
   "display_name": ".venv",
   "language": "python",
   "name": "python3"
  },
  "language_info": {
   "codemirror_mode": {
    "name": "ipython",
    "version": 3
   },
   "file_extension": ".py",
   "mimetype": "text/x-python",
   "name": "python",
   "nbconvert_exporter": "python",
   "pygments_lexer": "ipython3",
   "version": "3.11.4"
  },
  "orig_nbformat": 4
 },
 "nbformat": 4,
 "nbformat_minor": 2
}
